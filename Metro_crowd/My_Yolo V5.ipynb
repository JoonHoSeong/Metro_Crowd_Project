{
 "cells": [
  {
   "cell_type": "code",
   "execution_count": 13,
   "id": "d290a587",
   "metadata": {},
   "outputs": [
    {
     "name": "stdout",
     "output_type": "stream",
     "text": [
      "Note: you may need to restart the kernel to use updated packages.\n"
     ]
    },
    {
     "name": "stderr",
     "output_type": "stream",
     "text": [
      "WARNING: Ignoring invalid distribution -pencv-python (c:\\users\\joonh\\anaconda3\\envs\\team_project\\lib\\site-packages)\n",
      "ERROR: Invalid requirement: '#'\n",
      "WARNING: Ignoring invalid distribution -pencv-python (c:\\users\\joonh\\anaconda3\\envs\\team_project\\lib\\site-packages)\n",
      "WARNING: Ignoring invalid distribution -pencv-python (c:\\users\\joonh\\anaconda3\\envs\\team_project\\lib\\site-packages)\n",
      "WARNING: Ignoring invalid distribution -pencv-python (c:\\users\\joonh\\anaconda3\\envs\\team_project\\lib\\site-packages)\n"
     ]
    }
   ],
   "source": [
    "%pip install -qr requirements.txt  # install dependencies"
   ]
  },
  {
   "cell_type": "code",
   "execution_count": 6,
   "id": "57413a8f",
   "metadata": {},
   "outputs": [
    {
     "name": "stdout",
     "output_type": "stream",
     "text": [
      "False\n",
      "Setup complete. Using torch 1.9.0+cpu (CPU)\n"
     ]
    }
   ],
   "source": [
    "import torch\n",
    "from IPython.display import Image, clear_output  # to display images\n",
    "\n",
    "clear_output()\n",
    "print(torch.cuda.is_available())\n",
    "print(f\"Setup complete. Using torch {torch.__version__} ({torch.cuda.get_device_properties.name if torch.cuda.is_available() else 'CPU'})\")"
   ]
  },
  {
   "cell_type": "code",
   "execution_count": 62,
   "id": "3e5ab7d5",
   "metadata": {},
   "outputs": [
    {
     "name": "stdout",
     "output_type": "stream",
     "text": [
      "image 1/1 C:\\Users\\joonh\\Desktop\\Team_project_tmp\\YoloV5\\yolov5-master\\data\\images\\abr17.jpg: 512x640 20 persons, Done. (0.829s)\n"
     ]
    },
    {
     "name": "stderr",
     "output_type": "stream",
     "text": [
      "YOLOv5  2021-8-19 torch 1.9.0+cpu CPU\n",
      "\n",
      "Fusing layers... \n",
      "Model Summary: 606 layers, 141755500 parameters, 0 gradients\n"
     ]
    }
   ],
   "source": [
    "!python detect.py --weights yolov5x6.pt --conf 0.1 --source data/images/ --classes 0 --save-conf --save-txt"
   ]
  },
  {
   "cell_type": "code",
   "execution_count": null,
   "id": "41d12f69",
   "metadata": {},
   "outputs": [],
   "source": []
  }
 ],
 "metadata": {
  "kernelspec": {
   "display_name": "team_project",
   "language": "python",
   "name": "team_project"
  },
  "language_info": {
   "codemirror_mode": {
    "name": "ipython",
    "version": 3
   },
   "file_extension": ".py",
   "mimetype": "text/x-python",
   "name": "python",
   "nbconvert_exporter": "python",
   "pygments_lexer": "ipython3",
   "version": "3.7.10"
  }
 },
 "nbformat": 4,
 "nbformat_minor": 5
}
